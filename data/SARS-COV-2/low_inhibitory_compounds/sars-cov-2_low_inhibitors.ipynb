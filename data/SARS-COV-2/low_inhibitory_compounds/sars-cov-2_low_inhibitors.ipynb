{
 "cells": [
  {
   "cell_type": "code",
   "execution_count": 70,
   "metadata": {},
   "outputs": [],
   "source": [
    "import pandas as pd\n",
    "import numpy as np"
   ]
  },
  {
   "cell_type": "code",
   "execution_count": 71,
   "metadata": {},
   "outputs": [
    {
     "name": "stdout",
     "output_type": "stream",
     "text": [
      "(13851, 3)\n"
     ]
    },
    {
     "data": {
      "text/html": [
       "<div>\n",
       "<style scoped>\n",
       "    .dataframe tbody tr th:only-of-type {\n",
       "        vertical-align: middle;\n",
       "    }\n",
       "\n",
       "    .dataframe tbody tr th {\n",
       "        vertical-align: top;\n",
       "    }\n",
       "\n",
       "    .dataframe thead th {\n",
       "        text-align: right;\n",
       "    }\n",
       "</style>\n",
       "<table border=\"1\" class=\"dataframe\">\n",
       "  <thead>\n",
       "    <tr style=\"text-align: right;\">\n",
       "      <th></th>\n",
       "      <th>ligand_name</th>\n",
       "      <th>smiles</th>\n",
       "      <th>IC50_nM</th>\n",
       "    </tr>\n",
       "  </thead>\n",
       "  <tbody>\n",
       "    <tr>\n",
       "      <th>0</th>\n",
       "      <td>AG7088 analogue 2a::CHEMBL20636::N-[(5-methyli...</td>\n",
       "      <td>CCOC(=O)\\C=C\\[C@H](C[C@@H]1CCNC1=O)NC(=O)[C@H]...</td>\n",
       "      <td>NaN</td>\n",
       "    </tr>\n",
       "    <tr>\n",
       "      <th>1</th>\n",
       "      <td>AG7088 analogue 2d::CHEMBL277716::N-[(benzylox...</td>\n",
       "      <td>CCOC(=O)\\C=C\\[C@H](C[C@@H]1CCNC1=O)NC(=O)[C@H]...</td>\n",
       "      <td>NaN</td>\n",
       "    </tr>\n",
       "    <tr>\n",
       "      <th>2</th>\n",
       "      <td>N-[(benzyloxy)carbonyl]-L-valyl-N1-((1S,2E)-4-...</td>\n",
       "      <td>CCOC(=O)\\C=C\\[C@H](C[C@@H]1CCNC1=O)NC(=O)[C@H]...</td>\n",
       "      <td>NaN</td>\n",
       "    </tr>\n",
       "    <tr>\n",
       "      <th>3</th>\n",
       "      <td>N-[(benzyloxy)carbonyl]-O-(tert-butyl)-L-threo...</td>\n",
       "      <td>CCOC(=O)\\C=C\\[C@H](C[C@@H]1CCNC1=O)NC(=O)[C@H]...</td>\n",
       "      <td>NaN</td>\n",
       "    </tr>\n",
       "    <tr>\n",
       "      <th>4</th>\n",
       "      <td>N-[(benzyloxy)carbonyl]-O-(tert-butyl)-L-threo...</td>\n",
       "      <td>C[C@H](OC(C)(C)C)[C@H](NC(=O)OCc1ccccc1)C(=O)N...</td>\n",
       "      <td>NaN</td>\n",
       "    </tr>\n",
       "  </tbody>\n",
       "</table>\n",
       "</div>"
      ],
      "text/plain": [
       "                                         ligand_name  \\\n",
       "0  AG7088 analogue 2a::CHEMBL20636::N-[(5-methyli...   \n",
       "1  AG7088 analogue 2d::CHEMBL277716::N-[(benzylox...   \n",
       "2  N-[(benzyloxy)carbonyl]-L-valyl-N1-((1S,2E)-4-...   \n",
       "3  N-[(benzyloxy)carbonyl]-O-(tert-butyl)-L-threo...   \n",
       "4  N-[(benzyloxy)carbonyl]-O-(tert-butyl)-L-threo...   \n",
       "\n",
       "                                              smiles IC50_nM  \n",
       "0  CCOC(=O)\\C=C\\[C@H](C[C@@H]1CCNC1=O)NC(=O)[C@H]...     NaN  \n",
       "1  CCOC(=O)\\C=C\\[C@H](C[C@@H]1CCNC1=O)NC(=O)[C@H]...     NaN  \n",
       "2  CCOC(=O)\\C=C\\[C@H](C[C@@H]1CCNC1=O)NC(=O)[C@H]...     NaN  \n",
       "3  CCOC(=O)\\C=C\\[C@H](C[C@@H]1CCNC1=O)NC(=O)[C@H]...     NaN  \n",
       "4  C[C@H](OC(C)(C)C)[C@H](NC(=O)OCc1ccccc1)C(=O)N...     NaN  "
      ]
     },
     "execution_count": 71,
     "metadata": {},
     "output_type": "execute_result"
    }
   ],
   "source": [
    "binding_db = pd.read_csv(filepath_or_buffer='./raw_data/BindingDB_Covid-19.tsv', sep='\\t')\n",
    "alt_binding_db = pd.read_csv(filepath_or_buffer='./raw_data/alt.tsv', sep='\\t')\n",
    "\n",
    "\n",
    "useful_col_names = ['BindingDB Ligand Name', 'Ligand SMILES', 'IC50 (nM)']\n",
    "\n",
    "binding_db = binding_db[useful_col_names]\n",
    "alt_binding_db = alt_binding_db[useful_col_names]\n",
    "\n",
    "binding_df = pd.concat([binding_db, alt_binding_db], axis=0)\n",
    "\n",
    "binding_df.columns = ['ligand_name', 'smiles', 'IC50_nM']\n",
    "\n",
    "print(binding_df.shape)\n",
    "\n",
    "binding_df.head()"
   ]
  },
  {
   "cell_type": "code",
   "execution_count": 72,
   "metadata": {},
   "outputs": [],
   "source": [
    "def convert_ic50(value):\n",
    "    # Удаляем символы \">\" или \"<\" из строки\n",
    "    value = str(value).replace('<', '').replace('>', '').strip()\n",
    "    \n",
    "    try:\n",
    "        # Пробуем преобразовать в число с плавающей запятой\n",
    "        return float(value)\n",
    "    except ValueError:\n",
    "        # Если преобразование невозможно, возвращаем NaN\n",
    "        return np.nan"
   ]
  },
  {
   "cell_type": "code",
   "execution_count": 73,
   "metadata": {},
   "outputs": [
    {
     "name": "stderr",
     "output_type": "stream",
     "text": [
      "C:\\Users\\roxasmeei\\AppData\\Local\\Temp\\ipykernel_16896\\1581351015.py:14: SettingWithCopyWarning: \n",
      "A value is trying to be set on a copy of a slice from a DataFrame.\n",
      "Try using .loc[row_indexer,col_indexer] = value instead\n",
      "\n",
      "See the caveats in the documentation: https://pandas.pydata.org/pandas-docs/stable/user_guide/indexing.html#returning-a-view-versus-a-copy\n",
      "  binding_df_trainset['SI'] = 0.00\n"
     ]
    },
    {
     "data": {
      "text/html": [
       "<div>\n",
       "<style scoped>\n",
       "    .dataframe tbody tr th:only-of-type {\n",
       "        vertical-align: middle;\n",
       "    }\n",
       "\n",
       "    .dataframe tbody tr th {\n",
       "        vertical-align: top;\n",
       "    }\n",
       "\n",
       "    .dataframe thead th {\n",
       "        text-align: right;\n",
       "    }\n",
       "</style>\n",
       "<table border=\"1\" class=\"dataframe\">\n",
       "  <thead>\n",
       "    <tr style=\"text-align: right;\">\n",
       "      <th></th>\n",
       "      <th>ligand_name</th>\n",
       "      <th>smiles</th>\n",
       "      <th>IC50_nM_parsed</th>\n",
       "      <th>SI</th>\n",
       "    </tr>\n",
       "  </thead>\n",
       "  <tbody>\n",
       "    <tr>\n",
       "      <th>5911</th>\n",
       "      <td>CHEBI:5801::Hydroxychloroquine::acs.jmedchem.1...</td>\n",
       "      <td>CCN(CCO)CCCC(C)Nc1ccnc2cc(Cl)ccc12</td>\n",
       "      <td>3584000.0</td>\n",
       "      <td>0.0</td>\n",
       "    </tr>\n",
       "    <tr>\n",
       "      <th>1239</th>\n",
       "      <td>WO2006061714, P38.5::cmdc.202100576, 10f</td>\n",
       "      <td>COc1cccc2[nH]c(cc12)C(=O)N[C@@H](CC(C)C)C(=O)N...</td>\n",
       "      <td>2300000.0</td>\n",
       "      <td>0.0</td>\n",
       "    </tr>\n",
       "    <tr>\n",
       "      <th>5909</th>\n",
       "      <td>CHEMBL1929014::acs.jmedchem.1c00409_ST.815</td>\n",
       "      <td>CC(C)C[C@H](NC(=O)[C@@H](NC(=O)[C@H](C)NC(=O)[...</td>\n",
       "      <td>2000000.0</td>\n",
       "      <td>0.0</td>\n",
       "    </tr>\n",
       "    <tr>\n",
       "      <th>2</th>\n",
       "      <td>CHEMBL4633785</td>\n",
       "      <td>OB1Oc2c(ccc(F)c2C(O)=O)[C@H]2C[C@@H]12</td>\n",
       "      <td>1000000.0</td>\n",
       "      <td>0.0</td>\n",
       "    </tr>\n",
       "    <tr>\n",
       "      <th>65</th>\n",
       "      <td>2-[(4-hydroxy-5,6-dimethylpyrimidin-2-yl)sulfa...</td>\n",
       "      <td>Cc1nc(SCC(=O)Nc2ccc(cc2)[N+]([O-])=O)[n-]c(=[O...</td>\n",
       "      <td>1000000.0</td>\n",
       "      <td>0.0</td>\n",
       "    </tr>\n",
       "  </tbody>\n",
       "</table>\n",
       "</div>"
      ],
      "text/plain": [
       "                                            ligand_name  \\\n",
       "5911  CHEBI:5801::Hydroxychloroquine::acs.jmedchem.1...   \n",
       "1239           WO2006061714, P38.5::cmdc.202100576, 10f   \n",
       "5909         CHEMBL1929014::acs.jmedchem.1c00409_ST.815   \n",
       "2                                         CHEMBL4633785   \n",
       "65    2-[(4-hydroxy-5,6-dimethylpyrimidin-2-yl)sulfa...   \n",
       "\n",
       "                                                 smiles  IC50_nM_parsed   SI  \n",
       "5911                 CCN(CCO)CCCC(C)Nc1ccnc2cc(Cl)ccc12       3584000.0  0.0  \n",
       "1239  COc1cccc2[nH]c(cc12)C(=O)N[C@@H](CC(C)C)C(=O)N...       2300000.0  0.0  \n",
       "5909  CC(C)C[C@H](NC(=O)[C@@H](NC(=O)[C@H](C)NC(=O)[...       2000000.0  0.0  \n",
       "2                OB1Oc2c(ccc(F)c2C(O)=O)[C@H]2C[C@@H]12       1000000.0  0.0  \n",
       "65    Cc1nc(SCC(=O)Nc2ccc(cc2)[N+]([O-])=O)[n-]c(=[O...       1000000.0  0.0  "
      ]
     },
     "execution_count": 73,
     "metadata": {},
     "output_type": "execute_result"
    }
   ],
   "source": [
    "binding_df = binding_df[(~binding_df['IC50_nM'].isnull()) & (binding_df['IC50_nM'] != 'IC50 (nM)')]\n",
    "\n",
    "binding_df.drop_duplicates(subset='smiles', inplace=True)\n",
    "\n",
    "binding_df['IC50_nM_parsed'] = binding_df['IC50_nM'].apply(convert_ic50)\n",
    "\n",
    "binding_df.drop(columns='IC50_nM', axis=1, inplace=True)\n",
    "\n",
    "binding_df.sort_values(by='IC50_nM_parsed', inplace=True, ascending=False)\n",
    "\n",
    "binding_df_trainset = binding_df.head(510)\n",
    "    \n",
    "    \n",
    "binding_df_trainset['SI'] = 0.00\n",
    "\n",
    "binding_df_trainset.head()"
   ]
  },
  {
   "cell_type": "code",
   "execution_count": 75,
   "metadata": {},
   "outputs": [],
   "source": [
    "binding_df_trainset.to_csv('./processed_data/non_inhibitors_db.csv', index=False)"
   ]
  }
 ],
 "metadata": {
  "kernelspec": {
   "display_name": ".venv",
   "language": "python",
   "name": "python3"
  },
  "language_info": {
   "codemirror_mode": {
    "name": "ipython",
    "version": 3
   },
   "file_extension": ".py",
   "mimetype": "text/x-python",
   "name": "python",
   "nbconvert_exporter": "python",
   "pygments_lexer": "ipython3",
   "version": "3.12.3"
  }
 },
 "nbformat": 4,
 "nbformat_minor": 2
}
