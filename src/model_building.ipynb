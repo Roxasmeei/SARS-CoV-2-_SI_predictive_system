{
 "cells": [
  {
   "cell_type": "code",
   "execution_count": 11,
   "metadata": {},
   "outputs": [],
   "source": [
    "import pandas as pd\n",
    "import numpy as np\n",
    "from rdkit import Chem\n",
    "from rdkit.Chem import Descriptors, AllChem, MACCSkeys\n",
    "from rdkit.Chem import rdFingerprintGenerator\n",
    "from sklearn.model_selection import train_test_split\n",
    "from sklearn.ensemble import RandomForestRegressor\n",
    "from xgboost import XGBRegressor\n",
    "from sklearn.model_selection import GridSearchCV\n",
    "from sklearn.model_selection import RandomizedSearchCV\n",
    "from sklearn.metrics import mean_squared_error, mean_absolute_error, r2_score\n",
    "import matplotlib.pyplot as plt\n",
    "import matplotlib.gridspec as gridspec\n",
    "import seaborn as sns\n",
    "import joblib"
   ]
  },
  {
   "cell_type": "code",
   "execution_count": null,
   "metadata": {},
   "outputs": [],
   "source": [
    "inhibitors_filepath = \"../data/SARS-COV-2/high_inhibitory_compounds/\"\n",
    "inhibitors_nature = pd.read_csv(filepath_or_buffer=inhibitors_filepath + 'nature/processed_data/sars-cov-2_inhibitors_nature.csv')\n",
    "inhibitors_pubs = pd.read_csv(filepath_or_buffer=inhibitors_filepath + 'pubs/processed_data/sars-cov-2_inhibitors_pubs.csv')\n",
    "inhibitors_sciencedirect = pd.read_csv(filepath_or_buffer=inhibitors_filepath + 'sciencedirect/processed_data/sars-cov-2_inhibitors_sciencedirect.csv')\n",
    "\n",
    "\n",
    "\n",
    "inhibitors_nature.drop(columns=['inhibitor_name', 'CC50_µM', 'EC50_µM'], inplace=True, axis=1)\n",
    "inhibitors_pubs.drop(columns=['compound_name', 'IC50_μM', 'CC50_μM'], inplace=True, axis=1)\n",
    "inhibitors_sciencedirect.drop(columns=['inhibitor_name', 'IC50_μmol/L', 'CC50_μmol/L'], inplace=True, axis=1)\n",
    "\n",
    "inhibitors_df = pd.concat([inhibitors_nature, inhibitors_pubs, inhibitors_sciencedirect], axis=0)\n",
    "\n",
    "inhibitors_df.drop_duplicates(subset='smiles', inplace=True)\n",
    "\n",
    "print(inhibitors_df.shape)\n",
    "\n",
    "inhibitors_df.head()"
   ]
  },
  {
   "cell_type": "code",
   "execution_count": null,
   "metadata": {},
   "outputs": [],
   "source": [
    "non_inhibitors_df = pd.read_csv(filepath_or_buffer='../data/SARS-COV-2/low_inhibitory_compounds/processed_data/non_inhibitors_db.csv')\n",
    "non_inhibitors_df.drop(columns=['ligand_name', 'IC50_nM_parsed'], inplace=True)\n",
    "\n",
    "complete_data = pd.concat([inhibitors_df, non_inhibitors_df], axis=0)\n",
    "\n",
    "complete_data.shape"
   ]
  },
  {
   "cell_type": "code",
   "execution_count": null,
   "metadata": {},
   "outputs": [],
   "source": [
    "def remove_outliers(df, columns):\n",
    "    Q1 = df[columns].quantile(0.25)\n",
    "    Q3 = df[columns].quantile(0.75)\n",
    "    IQR = Q3 - Q1\n",
    "    \n",
    "    # Определение маски для выбросов\n",
    "    mask = ~((df[columns] < (Q1 - 1.5 * IQR)) | (df[columns] > (Q3 + 1.5 * IQR))).any(axis=1)\n",
    "    \n",
    "    # Возвращаем DataFrame с удалёнными выбросами для указанных столбцов\n",
    "    return df[mask]\n",
    "\n",
    "\n",
    "\n",
    "complete_data = pd.concat([remove_outliers(inhibitors_df, ['SI']), non_inhibitors_df], axis=0)\n",
    "\n",
    "print(inhibitors_df.shape[0] + non_inhibitors_df.shape[0])\n",
    "print(complete_data.shape[0])\n",
    "\n",
    "\n",
    "complete_data"
   ]
  },
  {
   "cell_type": "code",
   "execution_count": 15,
   "metadata": {},
   "outputs": [],
   "source": [
    "def extract_morgan_fingerprint(smiles, radius=2, nBits=2048):\n",
    "    # Преобразуем SMILES в молекулу\n",
    "    mol = Chem.MolFromSmiles(smiles)\n",
    "    \n",
    "    if mol is None:\n",
    "        return None\n",
    "    \n",
    "    # Создаем генератор Morgan fingerprints\n",
    "    fpgen = AllChem.GetMorganGenerator(radius=radius, fpSize=nBits)\n",
    "    \n",
    "    # Генерируем fingerprint в виде битовой векторной формы\n",
    "    morgan_fp = fpgen.GetFingerprint(mol)\n",
    "    \n",
    "    # Преобразуем результат в массив numpy\n",
    "    morgan_fp_arr = np.array(morgan_fp)\n",
    "    \n",
    "    return morgan_fp_arr\n",
    "\n",
    "def extract_features(smiles):\n",
    "    # Преобразование SMILES в молекулу RDKit\n",
    "    mol = Chem.MolFromSmiles(smiles)\n",
    "    \n",
    "    if mol is None:\n",
    "        return None\n",
    "    \n",
    "    # Вычисление молекулярной массы\n",
    "    molecular_weight = Descriptors.MolWt(mol)\n",
    "    \n",
    "    # Вычисление LogP (коэффициента распределения)\n",
    "    logP = Descriptors.MolLogP(mol)\n",
    "    \n",
    "    # Число водородных доноров (HBD)\n",
    "    hbd = Descriptors.NumHDonors(mol)\n",
    "    \n",
    "    # Число водородных акцепторов (HBA)\n",
    "    hba = Descriptors.NumHAcceptors(mol)\n",
    "    \n",
    "    # Топологическая полярная поверхность (TPSA)\n",
    "    tpsa = Descriptors.TPSA(mol)\n",
    "    \n",
    "    rdkit_gen = rdFingerprintGenerator.GetRDKitFPGenerator(maxPath=5)\n",
    "    fingerprint = rdkit_gen.GetFingerprint(mol)\n",
    "    \n",
    "    \n",
    "\n",
    "    return {\n",
    "        'MolecularWeight': molecular_weight,\n",
    "        'LogP': logP,\n",
    "        'HBD': hbd,\n",
    "        'HBA': hba,\n",
    "        'TPSA': tpsa,\n",
    "        'fingerprint' : fingerprint\n",
    "    }"
   ]
  },
  {
   "cell_type": "code",
   "execution_count": null,
   "metadata": {},
   "outputs": [],
   "source": [
    "features_df = complete_data['smiles'].apply(extract_features)\n",
    "\n",
    "features_expanded_df = pd.DataFrame(features_df.tolist())\n",
    "\n",
    "\n",
    "complete_data.reset_index(drop=True, inplace=True)\n",
    "features_expanded_df.reset_index(drop=True, inplace=True)\n",
    "\n",
    "complete_data_with_features = pd.concat([complete_data, features_expanded_df], axis=1, ignore_index=False)\n",
    "\n",
    "print(complete_data_with_features.dtypes)\n",
    "\n",
    "complete_data_with_features.head()"
   ]
  },
  {
   "cell_type": "code",
   "execution_count": 18,
   "metadata": {},
   "outputs": [],
   "source": [
    "selective_index = complete_data_with_features['SI']\n",
    "selective_index = np.array(selective_index)\n",
    "selective_index = selective_index.flatten()"
   ]
  },
  {
   "cell_type": "code",
   "execution_count": null,
   "metadata": {},
   "outputs": [],
   "source": [
    "compounds = []\n",
    "for smile, mw, logp, hbd, hba, tpsa in complete_data_with_features[['smiles', 'MolecularWeight', 'LogP', 'HBD', 'HBA', 'TPSA']].itertuples(index=False):\n",
    "    compounds.append((Chem.MolFromSmiles(smile), mw, logp, hbd, hba, tpsa))\n",
    "rdkit_gen = rdFingerprintGenerator.GetRDKitFPGenerator(maxPath=5)\n",
    "fingerprints = np.array([rdkit_gen.GetFingerprint(mol) for mol, _, _, _, _, _ in compounds])\n",
    "properties = np.array([[mw, logp, hbd, hba, tpsa] for _, mw, logp, hbd, hba, tpsa in compounds])\n",
    "\n",
    "\n",
    "combined_data = np.hstack((fingerprints, properties))\n",
    "\n",
    "combined_data"
   ]
  },
  {
   "cell_type": "code",
   "execution_count": 20,
   "metadata": {},
   "outputs": [],
   "source": [
    "X_train, X_test, y_train, y_test = train_test_split(combined_data, selective_index, test_size = 0.2)"
   ]
  },
  {
   "cell_type": "code",
   "execution_count": 21,
   "metadata": {},
   "outputs": [],
   "source": [
    "xgb_model = XGBRegressor(random_state=1)\n",
    "\n",
    "# Определение параметров для перебора\n",
    "param_dist = {\n",
    "    'n_estimators': [100, 200, 300, 500],\n",
    "    'max_depth': [3, 5, 7, 10, 20],\n",
    "    'learning_rate': [0.01, 0.05, 0.1, 0.2],\n",
    "    'min_child_weight': [1, 2, 3, 4],\n",
    "    'subsample': [0.5, 0.7, 1.0],\n",
    "    'colsample_bytree': [0.5, 0.7, 1.0],\n",
    "    'gamma': [0, 0.1, 0.2, 0.3]\n",
    "}\n",
    "\n",
    "# Настройка RandomizedSearchCV\n",
    "randomized_search_xgb = RandomizedSearchCV(estimator=xgb_model, \n",
    "                                            param_distributions=param_dist, \n",
    "                                            n_iter=500,  # Количество итераций\n",
    "                                            cv=5,  # Количество фолдов для кросс-валидации\n",
    "                                            random_state=42,\n",
    "                                            error_score='raise')"
   ]
  },
  {
   "cell_type": "code",
   "execution_count": null,
   "metadata": {},
   "outputs": [],
   "source": [
    "print(X_train.shape)\n",
    "randomized_search_xgb.fit(X_train, y_train)"
   ]
  },
  {
   "cell_type": "code",
   "execution_count": null,
   "metadata": {},
   "outputs": [],
   "source": [
    "tuned_xgb_model = randomized_search_xgb.best_estimator_\n",
    "joblib.dump(tuned_xgb_model, 'sars-cov-2_SI_predictive_model.joblib')"
   ]
  },
  {
   "cell_type": "code",
   "execution_count": null,
   "metadata": {},
   "outputs": [],
   "source": [
    "mae_xgb = mean_absolute_error(y_test, tuned_xgb_model.predict(X_test))\n",
    "# print(f\"MAE of tuned RF model: {mae_rf}\")\n",
    "print(f\"MAE of tuned XGB model: {mae_xgb}\")"
   ]
  }
 ],
 "metadata": {
  "kernelspec": {
   "display_name": ".venv",
   "language": "python",
   "name": "python3"
  },
  "language_info": {
   "codemirror_mode": {
    "name": "ipython",
    "version": 3
   },
   "file_extension": ".py",
   "mimetype": "text/x-python",
   "name": "python",
   "nbconvert_exporter": "python",
   "pygments_lexer": "ipython3",
   "version": "3.12.3"
  }
 },
 "nbformat": 4,
 "nbformat_minor": 2
}
