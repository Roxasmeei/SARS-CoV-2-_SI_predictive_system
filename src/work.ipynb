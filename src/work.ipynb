{
 "cells": [
  {
   "cell_type": "markdown",
   "metadata": {},
   "source": [
    "## **Подключение библиотек**"
   ]
  },
  {
   "cell_type": "code",
   "execution_count": 1,
   "metadata": {},
   "outputs": [],
   "source": [
    "import pandas as pd\n",
    "import numpy as np\n",
    "from rdkit import Chem\n",
    "from rdkit.Chem import Descriptors, AllChem\n",
    "from rdkit.Chem import rdFingerprintGenerator\n",
    "import joblib"
   ]
  },
  {
   "cell_type": "markdown",
   "metadata": {},
   "source": [
    "## **Загрузка модели и данных по которым надо будет сделать \"предсказание\"**"
   ]
  },
  {
   "cell_type": "code",
   "execution_count": null,
   "metadata": {},
   "outputs": [],
   "source": [
    "model = joblib.load(filename=\"./sars-cov-2_SI_predictive_model.joblib\")\n",
    "data = pd.read_csv(\"./input/data.csv\")\n",
    "data"
   ]
  },
  {
   "cell_type": "markdown",
   "metadata": {},
   "source": [
    "## **Извлечение признаков из `SMILES`**"
   ]
  },
  {
   "cell_type": "code",
   "execution_count": 3,
   "metadata": {},
   "outputs": [],
   "source": [
    "def extract_morgan_fingerprint(smiles, radius=2, nBits=2048):\n",
    "    # Преобразуем SMILES в молекулу\n",
    "    mol = Chem.MolFromSmiles(smiles)\n",
    "    \n",
    "    if mol is None:\n",
    "        return None\n",
    "    \n",
    "    # Создаем генератор Morgan fingerprints\n",
    "    fpgen = AllChem.GetMorganGenerator(radius=radius, fpSize=nBits)\n",
    "    \n",
    "    # Генерируем fingerprint в виде битовой векторной формы\n",
    "    morgan_fp = fpgen.GetFingerprint(mol)\n",
    "    \n",
    "    # Преобразуем результат в массив numpy\n",
    "    morgan_fp_arr = np.array(morgan_fp)\n",
    "    \n",
    "    return morgan_fp_arr\n",
    "\n",
    "def extract_features(smiles):\n",
    "    # Преобразование SMILES в молекулу RDKit\n",
    "    mol = Chem.MolFromSmiles(smiles)\n",
    "    \n",
    "    if mol is None:\n",
    "        return None\n",
    "    \n",
    "    # Вычисление молекулярной массы\n",
    "    molecular_weight = Descriptors.MolWt(mol)\n",
    "    \n",
    "    # Вычисление LogP (коэффициента распределения)\n",
    "    logP = Descriptors.MolLogP(mol)\n",
    "    \n",
    "    # Число водородных доноров (HBD)\n",
    "    hbd = Descriptors.NumHDonors(mol)\n",
    "    \n",
    "    # Число водородных акцепторов (HBA)\n",
    "    hba = Descriptors.NumHAcceptors(mol)\n",
    "    \n",
    "    # Топологическая полярная поверхность (TPSA)\n",
    "    tpsa = Descriptors.TPSA(mol)\n",
    "    \n",
    "    rdkit_gen = rdFingerprintGenerator.GetRDKitFPGenerator(maxPath=5)\n",
    "    fingerprint = rdkit_gen.GetFingerprint(mol)\n",
    "    \n",
    "    \n",
    "\n",
    "    return {\n",
    "        'MolecularWeight': molecular_weight,\n",
    "        'LogP': logP,\n",
    "        'HBD': hbd,\n",
    "        'HBA': hba,\n",
    "        'TPSA': tpsa,\n",
    "        'fingerprint' : fingerprint\n",
    "    }\n",
    "\n",
    "def dataframe_processing(df):\n",
    "    tmp = df.drop(columns=['IC50 mg/ml', 'CC50 mg/ml', 'SI', 'Cell', 'Virus', 'Strain', 'DOI'], axis=1)\n",
    "    features_df = tmp['smiles'].apply(extract_features)\n",
    "\n",
    "    features_expanded_df = pd.DataFrame(features_df.tolist())\n",
    "\n",
    "\n",
    "    tmp.reset_index(drop=True, inplace=True)\n",
    "    features_expanded_df.reset_index(drop=True, inplace=True)\n",
    "\n",
    "    complete_data_with_features = pd.concat([tmp, features_expanded_df], axis=1, ignore_index=False)\n",
    "    \n",
    "    \n",
    "    compounds = []\n",
    "    for smile, mw, logp, hbd, hba, tpsa in complete_data_with_features[['smiles', 'MolecularWeight', 'LogP', 'HBD', 'HBA', 'TPSA']].itertuples(index=False):\n",
    "        compounds.append((Chem.MolFromSmiles(smile), mw, logp, hbd, hba, tpsa))\n",
    "    rdkit_gen = rdFingerprintGenerator.GetRDKitFPGenerator(maxPath=5)\n",
    "    fingerprints = np.array([rdkit_gen.GetFingerprint(mol) for mol, _, _, _, _, _ in compounds])\n",
    "    properties = np.array([[mw, logp, hbd, hba, tpsa] for _, mw, logp, hbd, hba, tpsa in compounds])\n",
    "\n",
    "\n",
    "    combined_data = np.hstack((fingerprints, properties))\n",
    "\n",
    "    \n",
    "    \n",
    "    return combined_data\n",
    "    \n",
    "    "
   ]
  },
  {
   "cell_type": "code",
   "execution_count": 4,
   "metadata": {},
   "outputs": [],
   "source": [
    "X = dataframe_processing(data)\n",
    "y = model.predict(X)"
   ]
  },
  {
   "cell_type": "markdown",
   "metadata": {},
   "source": [
    "## **Загрузка результатов в `predictions.csv`**"
   ]
  },
  {
   "cell_type": "code",
   "execution_count": 5,
   "metadata": {},
   "outputs": [],
   "source": [
    "# Создаем DataFrame из предсказаний\n",
    "df = pd.DataFrame(y, columns=['SI_prediction'])\n",
    "\n",
    "# Сохраняем DataFrame в CSV файл\n",
    "df.to_csv('./output/predictions.csv', index=False)"
   ]
  }
 ],
 "metadata": {
  "kernelspec": {
   "display_name": ".venv",
   "language": "python",
   "name": "python3"
  },
  "language_info": {
   "codemirror_mode": {
    "name": "ipython",
    "version": 3
   },
   "file_extension": ".py",
   "mimetype": "text/x-python",
   "name": "python",
   "nbconvert_exporter": "python",
   "pygments_lexer": "ipython3",
   "version": "3.12.3"
  }
 },
 "nbformat": 4,
 "nbformat_minor": 2
}
